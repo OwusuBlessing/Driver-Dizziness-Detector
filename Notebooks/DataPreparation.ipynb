{
 "cells": [
  {
   "cell_type": "markdown",
   "id": "d5473fa5-319f-4702-9d15-93f68669a8ee",
   "metadata": {},
   "source": [
    "### Data preparation\n",
    "This notebook is for the purpose of preparaing images collected and set them up in proper format for training with YOLO algorithm"
   ]
  },
  {
   "cell_type": "code",
   "execution_count": 2,
   "id": "0099dd52-e397-432a-a941-e32399a99824",
   "metadata": {},
   "outputs": [],
   "source": [
    "from pathlib import Path\n",
    "import os\n",
    "import shutil\n",
    "import random\n",
    "import glob"
   ]
  },
  {
   "cell_type": "code",
   "execution_count": 99,
   "id": "a4765c4e-4396-43ee-b10b-f5351f246c98",
   "metadata": {},
   "outputs": [
    {
     "name": "stdout",
     "output_type": "stream",
     "text": [
      "There are 269 images found \n",
      "There are 229 images found \n",
      "There are 40 images found \n",
      "There are 40 images found \n"
     ]
    }
   ],
   "source": [
    "def get_all_images_paths(folder_path):\n",
    "    \n",
    "        image_extensions = [\"*.jpg\", \"*.jpeg\", \"*.png\", \"*.gif\"]  # Add more extensions if needed\n",
    "        image_paths = []\n",
    "        for extension in image_extensions:\n",
    "            image_paths.extend(glob.glob(os.path.join(folder_path, extension)))\n",
    "        print(f\"There are {len(image_paths)} images found \")\n",
    "        return image_paths\n",
    "images_path_train_open = get_all_images_paths(r\"C:\\Users\\User\\Desktop\\CV\\Driver_dizziness_detector\\Datasets\\cleaned_images\\Training\\Open\" )\n",
    "images_path_train_close = get_all_images_paths(r\"C:\\Users\\User\\Desktop\\CV\\Driver_dizziness_detector\\Datasets\\cleaned_images\\Training\\close_2\")\n",
    "images_path_test_open =  get_all_images_paths(r\"C:\\Users\\User\\Desktop\\CV\\Driver_dizziness_detector\\Datasets\\cleaned_images\\Validation\\Open\")\n",
    "images_path_test_close = get_all_images_paths(r\"C:\\Users\\User\\Desktop\\CV\\Driver_dizziness_detector\\Datasets\\cleaned_images\\Validation\\Close_2\")"
   ]
  },
  {
   "cell_type": "code",
   "execution_count": 93,
   "id": "56979870-9999-441e-92f1-3bbb4b8b9e1e",
   "metadata": {},
   "outputs": [],
   "source": [
    "#rename images in each folder\n",
    "def rename_images(path):\n",
    "    for root,dirs,files in os.walk(path):\n",
    "        for filename in files:\n",
    "            if filename.endswith((\".jpg\",\".png\",\".jpeg\")):\n",
    "                parent_folder = os.path.basename(root)\n",
    "                grandparentfolder = os.path.basename(os.path.dirname(root))\n",
    "                old_path = os.path.join(root,filename)\n",
    "                new_filename = f\"{grandparentfolder}_{parent_folder}_{filename}\"\n",
    "                new_path = os.path.join(root,new_filename)\n",
    "                os.rename(old_path,new_path)\n",
    "rename_images(r\"C:\\Users\\User\\Desktop\\CV\\Driver_dizziness_detector\\Datasets\\cleaned_images\\Training\\Open\")\n",
    "rename_images(r\"C:\\Users\\User\\Desktop\\CV\\Driver_dizziness_detector\\Datasets\\cleaned_images\\Training\\close_2\")\n",
    "rename_images(r\"C:\\Users\\User\\Desktop\\CV\\Driver_dizziness_detector\\Datasets\\cleaned_images\\Validation\\Open\")\n",
    "rename_images(r\"C:\\Users\\User\\Desktop\\CV\\Driver_dizziness_detector\\Datasets\\cleaned_images\\Validation\\Close_2\")"
   ]
  },
  {
   "cell_type": "code",
   "execution_count": 100,
   "id": "93a896b8-70b2-42d1-96d4-0ac4b841c16b",
   "metadata": {},
   "outputs": [
    {
     "name": "stdout",
     "output_type": "stream",
     "text": [
      "Current number of training images after picking some samples for validation is 219 for opened eyes\n",
      "Current number of training images after picking some samples for validation is 200 for closed eyes\n"
     ]
    }
   ],
   "source": [
    "random.seed(42)\n",
    "\n",
    "#select and remove 90 images for validation from \n",
    "all_images_path_val_open = random.sample(list(images_path_train_open),50)\n",
    "all_images_path_val_close = random.sample(list(images_path_train_close),29)\n",
    "\n",
    "#remmove validation data from training\n",
    "all_images_path_train_open = [img_path for img_path in images_path_train_open if img_path not in all_images_path_val_open]\n",
    "all_images_path_train_close =  [img_path for img_path in images_path_train_close if img_path not in all_images_path_val_close]\n",
    "print(f\"Current number of training images after picking some samples for validation is {len(list(all_images_path_train_open))} for opened eyes\")\n",
    "print(f\"Current number of training images after picking some samples for validation is {len(list(all_images_path_train_close))} for closed eyes\")"
   ]
  },
  {
   "cell_type": "code",
   "execution_count": 101,
   "id": "677aff1c-b88c-4c5a-a53b-2e85c6902540",
   "metadata": {},
   "outputs": [],
   "source": [
    "os.chdir(r\"C:\\Users\\User\\Desktop\\CV\\Driver_dizziness_detector\")"
   ]
  },
  {
   "cell_type": "markdown",
   "id": "c7bad809-81e8-4bb2-98be-76fd00c97009",
   "metadata": {},
   "source": [
    "#make direcorty for test,train and validation data\n",
    "images_path_dirs = [data_path / \"test\",data_path / \"train\", data_path / \"valid\"]\n",
    "for dir_name in images_path_dirs:\n",
    "  if dir_name.is_dir():\n",
    "       print(f\"Directory {dir_name} already exists\")\n",
    "  else:\n",
    "       os.mkdir(dir_name)"
   ]
  },
  {
   "cell_type": "code",
   "execution_count": 103,
   "id": "8df0b363-d7b4-469c-be0a-67599a23292b",
   "metadata": {},
   "outputs": [],
   "source": [
    "def copy_images(image_paths,destination_folder):\n",
    "    for image_path in image_paths:\n",
    "        image_name = image_path.split(\"\\\\\")[-1]  # Extract the image file name\n",
    "        destination_path = destination_folder + \"\\\\\"  +  image_name  # Create the destination path\n",
    "        # Copy the image file to the destination folder\n",
    "       \n",
    "        shutil.copy(image_path, destination_path)\n",
    "            "
   ]
  },
  {
   "cell_type": "code",
   "execution_count": 104,
   "id": "9496eb7a-b7fa-4044-a9c3-bec01be341e9",
   "metadata": {},
   "outputs": [],
   "source": [
    "copy_images(image_paths = all_images_path_train_open,destination_folder = r\"C:\\Users\\User\\Desktop\\CV\\Driver_dizziness_detector\\prepared_data\\train\") #copy respective train images to required folder\n",
    "copy_images(image_paths = all_images_path_train_close,destination_folder = r\"C:\\Users\\User\\Desktop\\CV\\Driver_dizziness_detector\\prepared_data\\train\") #copy respective train images to required folder\n",
    "copy_images(image_paths = images_path_test_close,destination_folder = r\"C:\\Users\\User\\Desktop\\CV\\Driver_dizziness_detector\\prepared_data\\test\") # copy respective test images to required folder\n",
    "copy_images(image_paths = images_path_test_open,destination_folder = r\"C:\\Users\\User\\Desktop\\CV\\Driver_dizziness_detector\\prepared_data\\test\")\n",
    "copy_images(image_paths = all_images_path_val_close,destination_folder = r\"C:\\Users\\User\\Desktop\\CV\\Driver_dizziness_detector\\prepared_data\\valid\") \n",
    "copy_images(image_paths = all_images_path_val_open,destination_folder = r\"C:\\Users\\User\\Desktop\\CV\\Driver_dizziness_detector\\prepared_data\\valid\")  ##copy respective validation images images to required folder"
   ]
  },
  {
   "cell_type": "markdown",
   "id": "d00e832a-016d-495a-bdd2-d6c0a1132897",
   "metadata": {},
   "source": [
    "### Moving all labels text files to separate folders"
   ]
  },
  {
   "cell_type": "code",
   "execution_count": 14,
   "id": "cb930c42-f690-4734-9c3e-f59d5add80e3",
   "metadata": {},
   "outputs": [
    {
     "name": "stdout",
     "output_type": "stream",
     "text": [
      "There are 79 images found in C:\\Users\\User\\Desktop\\CV\\Driver_dizziness_detector\\prepared_data\\valid\n",
      "There are 79 txt files  found in C:\\Users\\User\\Desktop\\CV\\Driver_dizziness_detector\\prepared_data\\valid\n",
      "There are 71 images found in C:\\Users\\User\\Desktop\\CV\\Driver_dizziness_detector\\prepared_data\\test\n",
      "There are 71 txt files  found in C:\\Users\\User\\Desktop\\CV\\Driver_dizziness_detector\\prepared_data\\test\n",
      "There are 379 images found in C:\\Users\\User\\Desktop\\CV\\Driver_dizziness_detector\\prepared_data\\train\n",
      "There are 379 txt files  found in C:\\Users\\User\\Desktop\\CV\\Driver_dizziness_detector\\prepared_data\\train\n"
     ]
    }
   ],
   "source": [
    "#Separate training images and labelled text files in seprate folders\n",
    "train_path_to_files = r\"C:\\Users\\User\\Desktop\\CV\\Driver_dizziness_detector\\prepared_data\\train\"\n",
    "test_path_to_files =  r\"C:\\Users\\User\\Desktop\\CV\\Driver_dizziness_detector\\prepared_data\\test\"\n",
    "valid_path_to_files =  r\"C:\\Users\\User\\Desktop\\CV\\Driver_dizziness_detector\\prepared_data\\valid\"\n",
    "def get_all_images_txt_paths(folder_path):\n",
    "        image_extensions = [\"*.jpg\", \"*.jpeg\", \"*.png\", \"*.gif\"]  # Add more extensions if needed\n",
    "        image_paths = []\n",
    "        for extension in image_extensions:\n",
    "            image_paths.extend(glob.glob(os.path.join(folder_path, extension)))\n",
    "        print(f\"There are {len(image_paths)} images found in {folder_path}\")\n",
    "\n",
    "        txt_paths = []\n",
    "        txt_extension = \"*.txt\"\n",
    "        txt_paths.extend(glob.glob(os.path.join(folder_path, txt_extension)))\n",
    "        print(f\"There are {len(txt_paths)} txt files  found in {folder_path}\")\n",
    "\n",
    "        #create new folders form imgages and labels\n",
    "        #chnage dir first\n",
    "        os.chdir(folder_path)\n",
    "        folders_to_create  = [\"images/\",\"labels/\"]\n",
    "        for folder in folders_to_create:\n",
    "            if os.path.isdir(folder):\n",
    "                print(f\"{folder} already exists\")\n",
    "            else:\n",
    "                os.mkdir(folder)\n",
    "        #copy imgages to to images folder\n",
    "        for img_path in image_paths:\n",
    "            image_name = img_path.split(\"\\\\\")[-1]\n",
    "            destination_path = folder_path +  \"\\\\\" + \"images\" + \"\\\\\" + image_name\n",
    "            shutil.copy(img_path, destination_path)\n",
    "        #copy all test files to labels folder\n",
    "        for txt_path in txt_paths:\n",
    "            txt_name = txt_path.split(\"\\\\\")[-1]\n",
    "            destination_path = folder_path +  \"\\\\\" + \"labels\" + \"\\\\\" + txt_name\n",
    "            shutil.copy(txt_path, destination_path)\n",
    "        \n",
    "\n",
    "get_all_images_txt_paths(valid_path_to_files) #copy imgaes and labels for validation data\n",
    "get_all_images_txt_paths(test_path_to_files) #copy images and labels for test data\n",
    "get_all_images_txt_paths(train_path_to_files) #copy images and labels for train data"
   ]
  },
  {
   "cell_type": "code",
   "execution_count": null,
   "id": "5bd0143e-2131-4abf-9c28-bce1a677a5a5",
   "metadata": {},
   "outputs": [],
   "source": []
  }
 ],
 "metadata": {
  "kernelspec": {
   "display_name": "Python 3 (ipykernel)",
   "language": "python",
   "name": "python3"
  },
  "language_info": {
   "codemirror_mode": {
    "name": "ipython",
    "version": 3
   },
   "file_extension": ".py",
   "mimetype": "text/x-python",
   "name": "python",
   "nbconvert_exporter": "python",
   "pygments_lexer": "ipython3",
   "version": "3.9.0"
  }
 },
 "nbformat": 4,
 "nbformat_minor": 5
}
